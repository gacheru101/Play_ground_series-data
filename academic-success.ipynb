{
 "cells": [
  {
   "cell_type": "code",
   "execution_count": 1,
   "id": "1d580507",
   "metadata": {
    "_cell_guid": "b1076dfc-b9ad-4769-8c92-a6c4dae69d19",
    "_uuid": "8f2839f25d086af736a60e9eeb907d3b93b6e0e5",
    "execution": {
     "iopub.execute_input": "2024-06-18T08:51:06.033104Z",
     "iopub.status.busy": "2024-06-18T08:51:06.032059Z",
     "iopub.status.idle": "2024-06-18T08:51:08.213793Z",
     "shell.execute_reply": "2024-06-18T08:51:08.212407Z"
    },
    "papermill": {
     "duration": 2.189104,
     "end_time": "2024-06-18T08:51:08.216560",
     "exception": false,
     "start_time": "2024-06-18T08:51:06.027456",
     "status": "completed"
    },
    "tags": []
   },
   "outputs": [
    {
     "name": "stdout",
     "output_type": "stream",
     "text": [
      "/kaggle/input/playground-series-s4e6/sample_submission.csv\n",
      "/kaggle/input/playground-series-s4e6/train.csv\n",
      "/kaggle/input/playground-series-s4e6/test.csv\n"
     ]
    }
   ],
   "source": [
    "# This Python 3 environment comes with many helpful analytics libraries installed\n",
    "# It is defined by the kaggle/python Docker image: https://github.com/kaggle/docker-python\n",
    "# For example, here's several helpful packages to load\n",
    "\n",
    "import numpy as np # linear algebra\n",
    "import pandas as pd # data processing, CSV file I/O (e.g. pd.read_csv)\n",
    "#importing the necessary library\n",
    "import seaborn as sns\n",
    "import matplotlib.pyplot as plt\n",
    "\n",
    "# Input data files are available in the read-only \"../input/\" directory\n",
    "# For example, running this (by clicking run or pressing Shift+Enter) will list all files under the input directory\n",
    "\n",
    "import os\n",
    "for dirname, _, filenames in os.walk('/kaggle/input'):\n",
    "    for filename in filenames:\n",
    "        print(os.path.join(dirname, filename))\n",
    "\n",
    "# You can write up to 20GB to the current directory (/kaggle/working/) that gets preserved as output when you create a version using \"Save & Run All\" \n",
    "# You can also write temporary files to /kaggle/temp/, but they won't be saved outside of the current session"
   ]
  },
  {
   "cell_type": "code",
   "execution_count": 2,
   "id": "69abc2e8",
   "metadata": {
    "execution": {
     "iopub.execute_input": "2024-06-18T08:51:08.223149Z",
     "iopub.status.busy": "2024-06-18T08:51:08.222054Z",
     "iopub.status.idle": "2024-06-18T08:51:08.874879Z",
     "shell.execute_reply": "2024-06-18T08:51:08.873784Z"
    },
    "papermill": {
     "duration": 0.658869,
     "end_time": "2024-06-18T08:51:08.877698",
     "exception": false,
     "start_time": "2024-06-18T08:51:08.218829",
     "status": "completed"
    },
    "tags": []
   },
   "outputs": [],
   "source": [
    "df_train = pd.read_csv(\"/kaggle/input/playground-series-s4e6/train.csv\")\n",
    "df_test = pd.read_csv(\"/kaggle/input/playground-series-s4e6/test.csv\")\n",
    "df_sub =pd.read_csv(\"/kaggle/input/playground-series-s4e6/sample_submission.csv\")\n"
   ]
  },
  {
   "cell_type": "code",
   "execution_count": null,
   "id": "25bd8187",
   "metadata": {
    "papermill": {
     "duration": 0.001689,
     "end_time": "2024-06-18T08:51:08.881697",
     "exception": false,
     "start_time": "2024-06-18T08:51:08.880008",
     "status": "completed"
    },
    "tags": []
   },
   "outputs": [],
   "source": []
  }
 ],
 "metadata": {
  "kaggle": {
   "accelerator": "none",
   "dataSources": [
    {
     "databundleVersionId": 8710574,
     "sourceId": 73290,
     "sourceType": "competition"
    }
   ],
   "dockerImageVersionId": 30732,
   "isGpuEnabled": false,
   "isInternetEnabled": true,
   "language": "python",
   "sourceType": "notebook"
  },
  "kernelspec": {
   "display_name": "Python 3",
   "language": "python",
   "name": "python3"
  },
  "language_info": {
   "codemirror_mode": {
    "name": "ipython",
    "version": 3
   },
   "file_extension": ".py",
   "mimetype": "text/x-python",
   "name": "python",
   "nbconvert_exporter": "python",
   "pygments_lexer": "ipython3",
   "version": "3.10.13"
  },
  "papermill": {
   "default_parameters": {},
   "duration": 6.479039,
   "end_time": "2024-06-18T08:51:09.605658",
   "environment_variables": {},
   "exception": null,
   "input_path": "__notebook__.ipynb",
   "output_path": "__notebook__.ipynb",
   "parameters": {},
   "start_time": "2024-06-18T08:51:03.126619",
   "version": "2.5.0"
  }
 },
 "nbformat": 4,
 "nbformat_minor": 5
}
