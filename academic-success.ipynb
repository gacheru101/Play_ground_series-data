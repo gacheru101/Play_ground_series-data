{
 "cells": [
  {
   "cell_type": "code",
   "execution_count": 1,
   "id": "45845427",
   "metadata": {
    "_cell_guid": "b1076dfc-b9ad-4769-8c92-a6c4dae69d19",
    "_uuid": "8f2839f25d086af736a60e9eeb907d3b93b6e0e5",
    "execution": {
     "iopub.execute_input": "2024-06-18T13:48:30.410838Z",
     "iopub.status.busy": "2024-06-18T13:48:30.410439Z",
     "iopub.status.idle": "2024-06-18T13:48:32.765081Z",
     "shell.execute_reply": "2024-06-18T13:48:32.763695Z"
    },
    "papermill": {
     "duration": 2.364408,
     "end_time": "2024-06-18T13:48:32.767972",
     "exception": false,
     "start_time": "2024-06-18T13:48:30.403564",
     "status": "completed"
    },
    "tags": []
   },
   "outputs": [
    {
     "name": "stdout",
     "output_type": "stream",
     "text": [
      "/kaggle/input/playground-series-s4e6/sample_submission.csv\n",
      "/kaggle/input/playground-series-s4e6/train.csv\n",
      "/kaggle/input/playground-series-s4e6/test.csv\n"
     ]
    }
   ],
   "source": [
    "# This Python 3 environment comes with many helpful analytics libraries installed\n",
    "# It is defined by the kaggle/python Docker image: https://github.com/kaggle/docker-python\n",
    "# For example, here's several helpful packages to load\n",
    "\n",
    "import numpy as np # linear algebra\n",
    "import pandas as pd # data processing, CSV file I/O (e.g. pd.read_csv)\n",
    "#importing the necessary library\n",
    "import seaborn as sns\n",
    "import matplotlib.pyplot as plt\n",
    "\n",
    "# Input data files are available in the read-only \"../input/\" directory\n",
    "# For example, running this (by clicking run or pressing Shift+Enter) will list all files under the input directory\n",
    "\n",
    "import os\n",
    "for dirname, _, filenames in os.walk('/kaggle/input'):\n",
    "    for filename in filenames:\n",
    "        print(os.path.join(dirname, filename))\n",
    "\n",
    "# You can write up to 20GB to the current directory (/kaggle/working/) that gets preserved as output when you create a version using \"Save & Run All\" \n",
    "# You can also write temporary files to /kaggle/temp/, but they won't be saved outside of the current session"
   ]
  },
  {
   "cell_type": "code",
   "execution_count": 2,
   "id": "e17a7e15",
   "metadata": {
    "execution": {
     "iopub.execute_input": "2024-06-18T13:48:32.784688Z",
     "iopub.status.busy": "2024-06-18T13:48:32.783415Z",
     "iopub.status.idle": "2024-06-18T13:48:34.229076Z",
     "shell.execute_reply": "2024-06-18T13:48:34.227813Z"
    },
    "papermill": {
     "duration": 1.456437,
     "end_time": "2024-06-18T13:48:34.231678",
     "exception": false,
     "start_time": "2024-06-18T13:48:32.775241",
     "status": "completed"
    },
    "tags": []
   },
   "outputs": [
    {
     "name": "stdout",
     "output_type": "stream",
     "text": [
      "<class 'pandas.core.frame.DataFrame'>\n",
      "RangeIndex: 76518 entries, 0 to 76517\n",
      "Data columns (total 38 columns):\n",
      " #   Column                                          Non-Null Count  Dtype  \n",
      "---  ------                                          --------------  -----  \n",
      " 0   id                                              76518 non-null  int64  \n",
      " 1   Marital status                                  76518 non-null  int64  \n",
      " 2   Application mode                                76518 non-null  int64  \n",
      " 3   Application order                               76518 non-null  int64  \n",
      " 4   Course                                          76518 non-null  int64  \n",
      " 5   Daytime/evening attendance                      76518 non-null  int64  \n",
      " 6   Previous qualification                          76518 non-null  int64  \n",
      " 7   Previous qualification (grade)                  76518 non-null  float64\n",
      " 8   Nacionality                                     76518 non-null  int64  \n",
      " 9   Mother's qualification                          76518 non-null  int64  \n",
      " 10  Father's qualification                          76518 non-null  int64  \n",
      " 11  Mother's occupation                             76518 non-null  int64  \n",
      " 12  Father's occupation                             76518 non-null  int64  \n",
      " 13  Admission grade                                 76518 non-null  float64\n",
      " 14  Displaced                                       76518 non-null  int64  \n",
      " 15  Educational special needs                       76518 non-null  int64  \n",
      " 16  Debtor                                          76518 non-null  int64  \n",
      " 17  Tuition fees up to date                         76518 non-null  int64  \n",
      " 18  Gender                                          76518 non-null  int64  \n",
      " 19  Scholarship holder                              76518 non-null  int64  \n",
      " 20  Age at enrollment                               76518 non-null  int64  \n",
      " 21  International                                   76518 non-null  int64  \n",
      " 22  Curricular units 1st sem (credited)             76518 non-null  int64  \n",
      " 23  Curricular units 1st sem (enrolled)             76518 non-null  int64  \n",
      " 24  Curricular units 1st sem (evaluations)          76518 non-null  int64  \n",
      " 25  Curricular units 1st sem (approved)             76518 non-null  int64  \n",
      " 26  Curricular units 1st sem (grade)                76518 non-null  float64\n",
      " 27  Curricular units 1st sem (without evaluations)  76518 non-null  int64  \n",
      " 28  Curricular units 2nd sem (credited)             76518 non-null  int64  \n",
      " 29  Curricular units 2nd sem (enrolled)             76518 non-null  int64  \n",
      " 30  Curricular units 2nd sem (evaluations)          76518 non-null  int64  \n",
      " 31  Curricular units 2nd sem (approved)             76518 non-null  int64  \n",
      " 32  Curricular units 2nd sem (grade)                76518 non-null  float64\n",
      " 33  Curricular units 2nd sem (without evaluations)  76518 non-null  int64  \n",
      " 34  Unemployment rate                               76518 non-null  float64\n",
      " 35  Inflation rate                                  76518 non-null  float64\n",
      " 36  GDP                                             76518 non-null  float64\n",
      " 37  Target                                          76518 non-null  object \n",
      "dtypes: float64(7), int64(30), object(1)\n",
      "memory usage: 22.2+ MB\n"
     ]
    }
   ],
   "source": [
    "#Importing necessary libraries\n",
    "from sklearn.ensemble import GradientBoostingClassifier\n",
    "from sklearn.datasets import make_classification\n",
    "from sklearn.model_selection import train_test_split\n",
    "from sklearn.metrics import accuracy_score\n",
    "from sklearn.preprocessing import OneHotEncoder\n",
    "from sklearn.preprocessing import OneHotEncoder\n",
    "from sklearn.datasets import make_classification\n",
    "from sklearn.model_selection import train_test_split\n",
    "from sklearn.ensemble import GradientBoostingClassifier\n",
    "from sklearn.preprocessing import OneHotEncoder\n",
    "from sklearn.compose import ColumnTransformer\n",
    "from sklearn.pipeline import Pipeline\n",
    "from sklearn.metrics import accuracy_score\n",
    "\n",
    "# Replace sparse with sparse_output\n",
    "encoder = OneHotEncoder(sparse_output=True)\n",
    "\n",
    "#loading the data frames and assigning names\n",
    "df_train = pd.read_csv(\"/kaggle/input/playground-series-s4e6/train.csv\")\n",
    "df_test = pd.read_csv(\"/kaggle/input/playground-series-s4e6/test.csv\")\n",
    "df_sub =pd.read_csv(\"/kaggle/input/playground-series-s4e6/sample_submission.csv\")\n",
    "df_train.info()\n",
    "\n",
    "df_train = df_train.drop('id',axis=1)"
   ]
  },
  {
   "cell_type": "code",
   "execution_count": 3,
   "id": "daf524aa",
   "metadata": {
    "execution": {
     "iopub.execute_input": "2024-06-18T13:48:34.242669Z",
     "iopub.status.busy": "2024-06-18T13:48:34.242297Z",
     "iopub.status.idle": "2024-06-18T13:48:34.256580Z",
     "shell.execute_reply": "2024-06-18T13:48:34.255548Z"
    },
    "papermill": {
     "duration": 0.022862,
     "end_time": "2024-06-18T13:48:34.259295",
     "exception": false,
     "start_time": "2024-06-18T13:48:34.236433",
     "status": "completed"
    },
    "tags": []
   },
   "outputs": [
    {
     "name": "stdout",
     "output_type": "stream",
     "text": [
      "<class 'pandas.core.frame.DataFrame'>\n",
      "RangeIndex: 51012 entries, 0 to 51011\n",
      "Data columns (total 37 columns):\n",
      " #   Column                                          Non-Null Count  Dtype  \n",
      "---  ------                                          --------------  -----  \n",
      " 0   id                                              51012 non-null  int64  \n",
      " 1   Marital status                                  51012 non-null  int64  \n",
      " 2   Application mode                                51012 non-null  int64  \n",
      " 3   Application order                               51012 non-null  int64  \n",
      " 4   Course                                          51012 non-null  int64  \n",
      " 5   Daytime/evening attendance                      51012 non-null  int64  \n",
      " 6   Previous qualification                          51012 non-null  int64  \n",
      " 7   Previous qualification (grade)                  51012 non-null  float64\n",
      " 8   Nacionality                                     51012 non-null  int64  \n",
      " 9   Mother's qualification                          51012 non-null  int64  \n",
      " 10  Father's qualification                          51012 non-null  int64  \n",
      " 11  Mother's occupation                             51012 non-null  int64  \n",
      " 12  Father's occupation                             51012 non-null  int64  \n",
      " 13  Admission grade                                 51012 non-null  float64\n",
      " 14  Displaced                                       51012 non-null  int64  \n",
      " 15  Educational special needs                       51012 non-null  int64  \n",
      " 16  Debtor                                          51012 non-null  int64  \n",
      " 17  Tuition fees up to date                         51012 non-null  int64  \n",
      " 18  Gender                                          51012 non-null  int64  \n",
      " 19  Scholarship holder                              51012 non-null  int64  \n",
      " 20  Age at enrollment                               51012 non-null  int64  \n",
      " 21  International                                   51012 non-null  int64  \n",
      " 22  Curricular units 1st sem (credited)             51012 non-null  int64  \n",
      " 23  Curricular units 1st sem (enrolled)             51012 non-null  int64  \n",
      " 24  Curricular units 1st sem (evaluations)          51012 non-null  int64  \n",
      " 25  Curricular units 1st sem (approved)             51012 non-null  int64  \n",
      " 26  Curricular units 1st sem (grade)                51012 non-null  float64\n",
      " 27  Curricular units 1st sem (without evaluations)  51012 non-null  int64  \n",
      " 28  Curricular units 2nd sem (credited)             51012 non-null  int64  \n",
      " 29  Curricular units 2nd sem (enrolled)             51012 non-null  int64  \n",
      " 30  Curricular units 2nd sem (evaluations)          51012 non-null  int64  \n",
      " 31  Curricular units 2nd sem (approved)             51012 non-null  int64  \n",
      " 32  Curricular units 2nd sem (grade)                51012 non-null  float64\n",
      " 33  Curricular units 2nd sem (without evaluations)  51012 non-null  int64  \n",
      " 34  Unemployment rate                               51012 non-null  float64\n",
      " 35  Inflation rate                                  51012 non-null  float64\n",
      " 36  GDP                                             51012 non-null  float64\n",
      "dtypes: float64(7), int64(30)\n",
      "memory usage: 14.4 MB\n"
     ]
    }
   ],
   "source": [
    "df_test.info()"
   ]
  },
  {
   "cell_type": "code",
   "execution_count": 4,
   "id": "afd02d82",
   "metadata": {
    "execution": {
     "iopub.execute_input": "2024-06-18T13:48:34.270615Z",
     "iopub.status.busy": "2024-06-18T13:48:34.270231Z",
     "iopub.status.idle": "2024-06-18T13:48:34.313989Z",
     "shell.execute_reply": "2024-06-18T13:48:34.312821Z"
    },
    "papermill": {
     "duration": 0.052336,
     "end_time": "2024-06-18T13:48:34.316619",
     "exception": false,
     "start_time": "2024-06-18T13:48:34.264283",
     "status": "completed"
    },
    "tags": []
   },
   "outputs": [
    {
     "name": "stdout",
     "output_type": "stream",
     "text": [
      "<class 'pandas.core.frame.DataFrame'>\n",
      "RangeIndex: 76517 entries, 1 to 76517\n",
      "Data columns (total 37 columns):\n",
      " #   Column                                          Non-Null Count  Dtype  \n",
      "---  ------                                          --------------  -----  \n",
      " 0   Marital status                                  76517 non-null  int64  \n",
      " 1   Application mode                                76517 non-null  int64  \n",
      " 2   Application order                               76517 non-null  int64  \n",
      " 3   Course                                          76517 non-null  int64  \n",
      " 4   Daytime/evening attendance                      76517 non-null  int64  \n",
      " 5   Previous qualification                          76517 non-null  int64  \n",
      " 6   Previous qualification (grade)                  76517 non-null  float64\n",
      " 7   Nacionality                                     76517 non-null  int64  \n",
      " 8   Mother's qualification                          76517 non-null  int64  \n",
      " 9   Father's qualification                          76517 non-null  int64  \n",
      " 10  Mother's occupation                             76517 non-null  int64  \n",
      " 11  Father's occupation                             76517 non-null  int64  \n",
      " 12  Admission grade                                 76517 non-null  float64\n",
      " 13  Displaced                                       76517 non-null  int64  \n",
      " 14  Educational special needs                       76517 non-null  int64  \n",
      " 15  Debtor                                          76517 non-null  int64  \n",
      " 16  Tuition fees up to date                         76517 non-null  int64  \n",
      " 17  Gender                                          76517 non-null  int64  \n",
      " 18  Scholarship holder                              76517 non-null  int64  \n",
      " 19  Age at enrollment                               76517 non-null  int64  \n",
      " 20  International                                   76517 non-null  int64  \n",
      " 21  Curricular units 1st sem (credited)             76517 non-null  int64  \n",
      " 22  Curricular units 1st sem (enrolled)             76517 non-null  int64  \n",
      " 23  Curricular units 1st sem (evaluations)          76517 non-null  int64  \n",
      " 24  Curricular units 1st sem (approved)             76517 non-null  int64  \n",
      " 25  Curricular units 1st sem (grade)                76517 non-null  float64\n",
      " 26  Curricular units 1st sem (without evaluations)  76517 non-null  int64  \n",
      " 27  Curricular units 2nd sem (credited)             76517 non-null  int64  \n",
      " 28  Curricular units 2nd sem (enrolled)             76517 non-null  int64  \n",
      " 29  Curricular units 2nd sem (evaluations)          76517 non-null  int64  \n",
      " 30  Curricular units 2nd sem (approved)             76517 non-null  int64  \n",
      " 31  Curricular units 2nd sem (grade)                76517 non-null  float64\n",
      " 32  Curricular units 2nd sem (without evaluations)  76517 non-null  int64  \n",
      " 33  Unemployment rate                               76517 non-null  float64\n",
      " 34  Inflation rate                                  76517 non-null  float64\n",
      " 35  GDP                                             76517 non-null  float64\n",
      " 36  Target                                          76517 non-null  object \n",
      "dtypes: float64(7), int64(29), object(1)\n",
      "memory usage: 21.6+ MB\n"
     ]
    },
    {
     "data": {
      "text/html": [
       "<div>\n",
       "<style scoped>\n",
       "    .dataframe tbody tr th:only-of-type {\n",
       "        vertical-align: middle;\n",
       "    }\n",
       "\n",
       "    .dataframe tbody tr th {\n",
       "        vertical-align: top;\n",
       "    }\n",
       "\n",
       "    .dataframe thead th {\n",
       "        text-align: right;\n",
       "    }\n",
       "</style>\n",
       "<table border=\"1\" class=\"dataframe\">\n",
       "  <thead>\n",
       "    <tr style=\"text-align: right;\">\n",
       "      <th></th>\n",
       "      <th>Marital status</th>\n",
       "      <th>Application mode</th>\n",
       "      <th>Application order</th>\n",
       "      <th>Course</th>\n",
       "      <th>Daytime/evening attendance</th>\n",
       "      <th>Previous qualification</th>\n",
       "      <th>Previous qualification (grade)</th>\n",
       "      <th>Nacionality</th>\n",
       "      <th>Mother's qualification</th>\n",
       "      <th>Father's qualification</th>\n",
       "      <th>...</th>\n",
       "      <th>Curricular units 2nd sem (credited)</th>\n",
       "      <th>Curricular units 2nd sem (enrolled)</th>\n",
       "      <th>Curricular units 2nd sem (evaluations)</th>\n",
       "      <th>Curricular units 2nd sem (approved)</th>\n",
       "      <th>Curricular units 2nd sem (grade)</th>\n",
       "      <th>Curricular units 2nd sem (without evaluations)</th>\n",
       "      <th>Unemployment rate</th>\n",
       "      <th>Inflation rate</th>\n",
       "      <th>GDP</th>\n",
       "      <th>Target</th>\n",
       "    </tr>\n",
       "  </thead>\n",
       "  <tbody>\n",
       "    <tr>\n",
       "      <th>1</th>\n",
       "      <td>1</td>\n",
       "      <td>17</td>\n",
       "      <td>1</td>\n",
       "      <td>9238</td>\n",
       "      <td>1</td>\n",
       "      <td>1</td>\n",
       "      <td>125.0</td>\n",
       "      <td>1</td>\n",
       "      <td>19</td>\n",
       "      <td>19</td>\n",
       "      <td>...</td>\n",
       "      <td>0</td>\n",
       "      <td>6</td>\n",
       "      <td>9</td>\n",
       "      <td>0</td>\n",
       "      <td>0.000000</td>\n",
       "      <td>0</td>\n",
       "      <td>11.1</td>\n",
       "      <td>0.6</td>\n",
       "      <td>2.02</td>\n",
       "      <td>Dropout</td>\n",
       "    </tr>\n",
       "    <tr>\n",
       "      <th>2</th>\n",
       "      <td>1</td>\n",
       "      <td>17</td>\n",
       "      <td>2</td>\n",
       "      <td>9254</td>\n",
       "      <td>1</td>\n",
       "      <td>1</td>\n",
       "      <td>137.0</td>\n",
       "      <td>1</td>\n",
       "      <td>3</td>\n",
       "      <td>19</td>\n",
       "      <td>...</td>\n",
       "      <td>0</td>\n",
       "      <td>6</td>\n",
       "      <td>0</td>\n",
       "      <td>0</td>\n",
       "      <td>0.000000</td>\n",
       "      <td>0</td>\n",
       "      <td>16.2</td>\n",
       "      <td>0.3</td>\n",
       "      <td>-0.92</td>\n",
       "      <td>Dropout</td>\n",
       "    </tr>\n",
       "    <tr>\n",
       "      <th>3</th>\n",
       "      <td>1</td>\n",
       "      <td>1</td>\n",
       "      <td>3</td>\n",
       "      <td>9500</td>\n",
       "      <td>1</td>\n",
       "      <td>1</td>\n",
       "      <td>131.0</td>\n",
       "      <td>1</td>\n",
       "      <td>19</td>\n",
       "      <td>3</td>\n",
       "      <td>...</td>\n",
       "      <td>0</td>\n",
       "      <td>8</td>\n",
       "      <td>11</td>\n",
       "      <td>7</td>\n",
       "      <td>12.820000</td>\n",
       "      <td>0</td>\n",
       "      <td>11.1</td>\n",
       "      <td>0.6</td>\n",
       "      <td>2.02</td>\n",
       "      <td>Enrolled</td>\n",
       "    </tr>\n",
       "    <tr>\n",
       "      <th>4</th>\n",
       "      <td>1</td>\n",
       "      <td>1</td>\n",
       "      <td>2</td>\n",
       "      <td>9500</td>\n",
       "      <td>1</td>\n",
       "      <td>1</td>\n",
       "      <td>132.0</td>\n",
       "      <td>1</td>\n",
       "      <td>19</td>\n",
       "      <td>37</td>\n",
       "      <td>...</td>\n",
       "      <td>0</td>\n",
       "      <td>7</td>\n",
       "      <td>12</td>\n",
       "      <td>6</td>\n",
       "      <td>12.933333</td>\n",
       "      <td>0</td>\n",
       "      <td>7.6</td>\n",
       "      <td>2.6</td>\n",
       "      <td>0.32</td>\n",
       "      <td>Graduate</td>\n",
       "    </tr>\n",
       "    <tr>\n",
       "      <th>5</th>\n",
       "      <td>1</td>\n",
       "      <td>39</td>\n",
       "      <td>1</td>\n",
       "      <td>171</td>\n",
       "      <td>1</td>\n",
       "      <td>19</td>\n",
       "      <td>133.1</td>\n",
       "      <td>1</td>\n",
       "      <td>19</td>\n",
       "      <td>19</td>\n",
       "      <td>...</td>\n",
       "      <td>0</td>\n",
       "      <td>0</td>\n",
       "      <td>0</td>\n",
       "      <td>0</td>\n",
       "      <td>0.000000</td>\n",
       "      <td>0</td>\n",
       "      <td>13.9</td>\n",
       "      <td>-0.3</td>\n",
       "      <td>0.79</td>\n",
       "      <td>Dropout</td>\n",
       "    </tr>\n",
       "  </tbody>\n",
       "</table>\n",
       "<p>5 rows × 37 columns</p>\n",
       "</div>"
      ],
      "text/plain": [
       "   Marital status  Application mode  Application order  Course  \\\n",
       "1               1                17                  1    9238   \n",
       "2               1                17                  2    9254   \n",
       "3               1                 1                  3    9500   \n",
       "4               1                 1                  2    9500   \n",
       "5               1                39                  1     171   \n",
       "\n",
       "   Daytime/evening attendance  Previous qualification  \\\n",
       "1                           1                       1   \n",
       "2                           1                       1   \n",
       "3                           1                       1   \n",
       "4                           1                       1   \n",
       "5                           1                      19   \n",
       "\n",
       "   Previous qualification (grade)  Nacionality  Mother's qualification  \\\n",
       "1                           125.0            1                      19   \n",
       "2                           137.0            1                       3   \n",
       "3                           131.0            1                      19   \n",
       "4                           132.0            1                      19   \n",
       "5                           133.1            1                      19   \n",
       "\n",
       "   Father's qualification  ...  Curricular units 2nd sem (credited)  \\\n",
       "1                      19  ...                                    0   \n",
       "2                      19  ...                                    0   \n",
       "3                       3  ...                                    0   \n",
       "4                      37  ...                                    0   \n",
       "5                      19  ...                                    0   \n",
       "\n",
       "   Curricular units 2nd sem (enrolled)  \\\n",
       "1                                    6   \n",
       "2                                    6   \n",
       "3                                    8   \n",
       "4                                    7   \n",
       "5                                    0   \n",
       "\n",
       "   Curricular units 2nd sem (evaluations)  \\\n",
       "1                                       9   \n",
       "2                                       0   \n",
       "3                                      11   \n",
       "4                                      12   \n",
       "5                                       0   \n",
       "\n",
       "   Curricular units 2nd sem (approved)  Curricular units 2nd sem (grade)  \\\n",
       "1                                    0                          0.000000   \n",
       "2                                    0                          0.000000   \n",
       "3                                    7                         12.820000   \n",
       "4                                    6                         12.933333   \n",
       "5                                    0                          0.000000   \n",
       "\n",
       "   Curricular units 2nd sem (without evaluations)  Unemployment rate  \\\n",
       "1                                               0               11.1   \n",
       "2                                               0               16.2   \n",
       "3                                               0               11.1   \n",
       "4                                               0                7.6   \n",
       "5                                               0               13.9   \n",
       "\n",
       "   Inflation rate   GDP    Target  \n",
       "1             0.6  2.02   Dropout  \n",
       "2             0.3 -0.92   Dropout  \n",
       "3             0.6  2.02  Enrolled  \n",
       "4             2.6  0.32  Graduate  \n",
       "5            -0.3  0.79   Dropout  \n",
       "\n",
       "[5 rows x 37 columns]"
      ]
     },
     "execution_count": 4,
     "metadata": {},
     "output_type": "execute_result"
    }
   ],
   "source": [
    "# Keep rows 1 to 3 (exclusive of row 3, i.e., rows 1 and 2)\n",
    "df_reduced = df_train.iloc[1:76518]\n",
    "df_reduced.info()\n",
    "df_reduced.head()"
   ]
  },
  {
   "cell_type": "code",
   "execution_count": 5,
   "id": "9467b5e0",
   "metadata": {
    "execution": {
     "iopub.execute_input": "2024-06-18T13:48:34.329737Z",
     "iopub.status.busy": "2024-06-18T13:48:34.329335Z",
     "iopub.status.idle": "2024-06-18T13:48:34.355421Z",
     "shell.execute_reply": "2024-06-18T13:48:34.354129Z"
    },
    "papermill": {
     "duration": 0.036148,
     "end_time": "2024-06-18T13:48:34.358012",
     "exception": false,
     "start_time": "2024-06-18T13:48:34.321864",
     "status": "completed"
    },
    "tags": []
   },
   "outputs": [
    {
     "name": "stderr",
     "output_type": "stream",
     "text": [
      "/tmp/ipykernel_18/3475420404.py:10: SettingWithCopyWarning: \n",
      "A value is trying to be set on a copy of a slice from a DataFrame.\n",
      "Try using .loc[row_indexer,col_indexer] = value instead\n",
      "\n",
      "See the caveats in the documentation: https://pandas.pydata.org/pandas-docs/stable/user_guide/indexing.html#returning-a-view-versus-a-copy\n",
      "  df_reduced.loc[:, 'Category_LabelEncoded'] = label_encoder.fit_transform(df_reduced['Target'])\n"
     ]
    }
   ],
   "source": [
    "from sklearn.preprocessing import LabelEncoder\n",
    "\n",
    "from sklearn.preprocessing import LabelEncoder\n",
    "\n",
    "# Assuming df_reduced is your dataframe and 'Target' is the column to encode\n",
    "label_encoder = LabelEncoder()\n",
    "\n",
    "\n",
    "# Using .loc to explicitly modify the original dataframe\n",
    "df_reduced.loc[:, 'Category_LabelEncoded'] = label_encoder.fit_transform(df_reduced['Target'])\n"
   ]
  },
  {
   "cell_type": "code",
   "execution_count": 6,
   "id": "bdbda0a5",
   "metadata": {
    "execution": {
     "iopub.execute_input": "2024-06-18T13:48:34.371333Z",
     "iopub.status.busy": "2024-06-18T13:48:34.370275Z",
     "iopub.status.idle": "2024-06-18T13:48:34.389215Z",
     "shell.execute_reply": "2024-06-18T13:48:34.388168Z"
    },
    "papermill": {
     "duration": 0.028113,
     "end_time": "2024-06-18T13:48:34.391646",
     "exception": false,
     "start_time": "2024-06-18T13:48:34.363533",
     "status": "completed"
    },
    "tags": []
   },
   "outputs": [
    {
     "data": {
      "text/plain": [
       "1        0\n",
       "2        0\n",
       "3        1\n",
       "4        2\n",
       "5        0\n",
       "        ..\n",
       "76513    2\n",
       "76514    2\n",
       "76515    1\n",
       "76516    0\n",
       "76517    2\n",
       "Name: Category_LabelEncoded, Length: 76517, dtype: int64"
      ]
     },
     "execution_count": 6,
     "metadata": {},
     "output_type": "execute_result"
    }
   ],
   "source": [
    "from sklearn.datasets import load_iris\n",
    "from sklearn.model_selection import train_test_split\n",
    "from sklearn.ensemble import GradientBoostingClassifier\n",
    "from sklearn.metrics import accuracy_score\n",
    "\n",
    "X = df_reduced.drop(['Target','Category_LabelEncoded'],axis=1)\n",
    "y = df_reduced['Category_LabelEncoded'] \n",
    "\n",
    "y"
   ]
  },
  {
   "cell_type": "code",
   "execution_count": 7,
   "id": "3ba3ff49",
   "metadata": {
    "execution": {
     "iopub.execute_input": "2024-06-18T13:48:34.405225Z",
     "iopub.status.busy": "2024-06-18T13:48:34.404822Z",
     "iopub.status.idle": "2024-06-18T13:48:34.441411Z",
     "shell.execute_reply": "2024-06-18T13:48:34.440145Z"
    },
    "papermill": {
     "duration": 0.046793,
     "end_time": "2024-06-18T13:48:34.444045",
     "exception": false,
     "start_time": "2024-06-18T13:48:34.397252",
     "status": "completed"
    },
    "tags": []
   },
   "outputs": [],
   "source": [
    "# Split data into training and testing sets\n",
    "X_train, X_test, y_train, y_test = train_test_split(X, y, test_size=0.2, random_state=42)"
   ]
  },
  {
   "cell_type": "code",
   "execution_count": 8,
   "id": "dd2eb9b9",
   "metadata": {
    "execution": {
     "iopub.execute_input": "2024-06-18T13:48:34.457230Z",
     "iopub.status.busy": "2024-06-18T13:48:34.456857Z",
     "iopub.status.idle": "2024-06-18T13:49:20.017504Z",
     "shell.execute_reply": "2024-06-18T13:49:20.016335Z"
    },
    "papermill": {
     "duration": 45.575908,
     "end_time": "2024-06-18T13:49:20.025569",
     "exception": false,
     "start_time": "2024-06-18T13:48:34.449661",
     "status": "completed"
    },
    "tags": []
   },
   "outputs": [
    {
     "data": {
      "text/html": [
       "<style>#sk-container-id-1 {color: black;background-color: white;}#sk-container-id-1 pre{padding: 0;}#sk-container-id-1 div.sk-toggleable {background-color: white;}#sk-container-id-1 label.sk-toggleable__label {cursor: pointer;display: block;width: 100%;margin-bottom: 0;padding: 0.3em;box-sizing: border-box;text-align: center;}#sk-container-id-1 label.sk-toggleable__label-arrow:before {content: \"▸\";float: left;margin-right: 0.25em;color: #696969;}#sk-container-id-1 label.sk-toggleable__label-arrow:hover:before {color: black;}#sk-container-id-1 div.sk-estimator:hover label.sk-toggleable__label-arrow:before {color: black;}#sk-container-id-1 div.sk-toggleable__content {max-height: 0;max-width: 0;overflow: hidden;text-align: left;background-color: #f0f8ff;}#sk-container-id-1 div.sk-toggleable__content pre {margin: 0.2em;color: black;border-radius: 0.25em;background-color: #f0f8ff;}#sk-container-id-1 input.sk-toggleable__control:checked~div.sk-toggleable__content {max-height: 200px;max-width: 100%;overflow: auto;}#sk-container-id-1 input.sk-toggleable__control:checked~label.sk-toggleable__label-arrow:before {content: \"▾\";}#sk-container-id-1 div.sk-estimator input.sk-toggleable__control:checked~label.sk-toggleable__label {background-color: #d4ebff;}#sk-container-id-1 div.sk-label input.sk-toggleable__control:checked~label.sk-toggleable__label {background-color: #d4ebff;}#sk-container-id-1 input.sk-hidden--visually {border: 0;clip: rect(1px 1px 1px 1px);clip: rect(1px, 1px, 1px, 1px);height: 1px;margin: -1px;overflow: hidden;padding: 0;position: absolute;width: 1px;}#sk-container-id-1 div.sk-estimator {font-family: monospace;background-color: #f0f8ff;border: 1px dotted black;border-radius: 0.25em;box-sizing: border-box;margin-bottom: 0.5em;}#sk-container-id-1 div.sk-estimator:hover {background-color: #d4ebff;}#sk-container-id-1 div.sk-parallel-item::after {content: \"\";width: 100%;border-bottom: 1px solid gray;flex-grow: 1;}#sk-container-id-1 div.sk-label:hover label.sk-toggleable__label {background-color: #d4ebff;}#sk-container-id-1 div.sk-serial::before {content: \"\";position: absolute;border-left: 1px solid gray;box-sizing: border-box;top: 0;bottom: 0;left: 50%;z-index: 0;}#sk-container-id-1 div.sk-serial {display: flex;flex-direction: column;align-items: center;background-color: white;padding-right: 0.2em;padding-left: 0.2em;position: relative;}#sk-container-id-1 div.sk-item {position: relative;z-index: 1;}#sk-container-id-1 div.sk-parallel {display: flex;align-items: stretch;justify-content: center;background-color: white;position: relative;}#sk-container-id-1 div.sk-item::before, #sk-container-id-1 div.sk-parallel-item::before {content: \"\";position: absolute;border-left: 1px solid gray;box-sizing: border-box;top: 0;bottom: 0;left: 50%;z-index: -1;}#sk-container-id-1 div.sk-parallel-item {display: flex;flex-direction: column;z-index: 1;position: relative;background-color: white;}#sk-container-id-1 div.sk-parallel-item:first-child::after {align-self: flex-end;width: 50%;}#sk-container-id-1 div.sk-parallel-item:last-child::after {align-self: flex-start;width: 50%;}#sk-container-id-1 div.sk-parallel-item:only-child::after {width: 0;}#sk-container-id-1 div.sk-dashed-wrapped {border: 1px dashed gray;margin: 0 0.4em 0.5em 0.4em;box-sizing: border-box;padding-bottom: 0.4em;background-color: white;}#sk-container-id-1 div.sk-label label {font-family: monospace;font-weight: bold;display: inline-block;line-height: 1.2em;}#sk-container-id-1 div.sk-label-container {text-align: center;}#sk-container-id-1 div.sk-container {/* jupyter's `normalize.less` sets `[hidden] { display: none; }` but bootstrap.min.css set `[hidden] { display: none !important; }` so we also need the `!important` here to be able to override the default hidden behavior on the sphinx rendered scikit-learn.org. See: https://github.com/scikit-learn/scikit-learn/issues/21755 */display: inline-block !important;position: relative;}#sk-container-id-1 div.sk-text-repr-fallback {display: none;}</style><div id=\"sk-container-id-1\" class=\"sk-top-container\"><div class=\"sk-text-repr-fallback\"><pre>GradientBoostingClassifier()</pre><b>In a Jupyter environment, please rerun this cell to show the HTML representation or trust the notebook. <br />On GitHub, the HTML representation is unable to render, please try loading this page with nbviewer.org.</b></div><div class=\"sk-container\" hidden><div class=\"sk-item\"><div class=\"sk-estimator sk-toggleable\"><input class=\"sk-toggleable__control sk-hidden--visually\" id=\"sk-estimator-id-1\" type=\"checkbox\" checked><label for=\"sk-estimator-id-1\" class=\"sk-toggleable__label sk-toggleable__label-arrow\">GradientBoostingClassifier</label><div class=\"sk-toggleable__content\"><pre>GradientBoostingClassifier()</pre></div></div></div></div></div>"
      ],
      "text/plain": [
       "GradientBoostingClassifier()"
      ]
     },
     "execution_count": 8,
     "metadata": {},
     "output_type": "execute_result"
    }
   ],
   "source": [
    "# Instantiate GradientBoostingClassifier\n",
    "gbc = GradientBoostingClassifier()\n",
    "\n",
    "# Fit the model\n",
    "gbc.fit(X_train, y_train)"
   ]
  },
  {
   "cell_type": "code",
   "execution_count": 9,
   "id": "aed3bd86",
   "metadata": {
    "execution": {
     "iopub.execute_input": "2024-06-18T13:49:20.038552Z",
     "iopub.status.busy": "2024-06-18T13:49:20.038104Z",
     "iopub.status.idle": "2024-06-18T13:49:20.143786Z",
     "shell.execute_reply": "2024-06-18T13:49:20.142521Z"
    },
    "papermill": {
     "duration": 0.115245,
     "end_time": "2024-06-18T13:49:20.146428",
     "exception": false,
     "start_time": "2024-06-18T13:49:20.031183",
     "status": "completed"
    },
    "tags": []
   },
   "outputs": [
    {
     "name": "stdout",
     "output_type": "stream",
     "text": [
      "Accuracy: 0.8231834814427601\n"
     ]
    }
   ],
   "source": [
    "# Make predictions\n",
    "y_pred = gbc.predict(X_test)\n",
    "\n",
    "# Evaluate accuracy\n",
    "accuracy = accuracy_score(y_test, y_pred)\n",
    "print(f'Accuracy: {accuracy}')"
   ]
  },
  {
   "cell_type": "code",
   "execution_count": 10,
   "id": "1c3c7bf8",
   "metadata": {
    "execution": {
     "iopub.execute_input": "2024-06-18T13:49:20.161698Z",
     "iopub.status.busy": "2024-06-18T13:49:20.160495Z",
     "iopub.status.idle": "2024-06-18T13:49:20.170408Z",
     "shell.execute_reply": "2024-06-18T13:49:20.169141Z"
    },
    "papermill": {
     "duration": 0.020161,
     "end_time": "2024-06-18T13:49:20.172977",
     "exception": false,
     "start_time": "2024-06-18T13:49:20.152816",
     "status": "completed"
    },
    "tags": []
   },
   "outputs": [],
   "source": [
    "df_test = df_test.drop('id',axis=1)"
   ]
  },
  {
   "cell_type": "code",
   "execution_count": 11,
   "id": "06b5ae2c",
   "metadata": {
    "execution": {
     "iopub.execute_input": "2024-06-18T13:49:20.186681Z",
     "iopub.status.busy": "2024-06-18T13:49:20.186281Z",
     "iopub.status.idle": "2024-06-18T13:49:20.522661Z",
     "shell.execute_reply": "2024-06-18T13:49:20.521441Z"
    },
    "papermill": {
     "duration": 0.345978,
     "end_time": "2024-06-18T13:49:20.525192",
     "exception": false,
     "start_time": "2024-06-18T13:49:20.179214",
     "status": "completed"
    },
    "tags": []
   },
   "outputs": [
    {
     "data": {
      "text/plain": [
       "array([0, 2, 2, ..., 0, 0, 0])"
      ]
     },
     "execution_count": 11,
     "metadata": {},
     "output_type": "execute_result"
    }
   ],
   "source": [
    "# Make predictions\n",
    "y_pred = gbc.predict(df_test)\n",
    "y_pred"
   ]
  },
  {
   "cell_type": "code",
   "execution_count": 12,
   "id": "27f2667e",
   "metadata": {
    "execution": {
     "iopub.execute_input": "2024-06-18T13:49:20.539748Z",
     "iopub.status.busy": "2024-06-18T13:49:20.538483Z",
     "iopub.status.idle": "2024-06-18T13:49:20.555383Z",
     "shell.execute_reply": "2024-06-18T13:49:20.554139Z"
    },
    "papermill": {
     "duration": 0.026868,
     "end_time": "2024-06-18T13:49:20.558085",
     "exception": false,
     "start_time": "2024-06-18T13:49:20.531217",
     "status": "completed"
    },
    "tags": []
   },
   "outputs": [],
   "source": [
    "# Define mapping from integers to categorical labels\n",
    "mapping = {\n",
    "    0: 'Dropout',\n",
    "    1: 'Enrolled',\n",
    "    2: 'Graduate'\n",
    "}\n",
    "\n",
    "# Convert integer array to categorical labels\n",
    "categorical_array = [mapping[val] for val in y_pred]\n",
    "# Convert NumPy array to DataFrame\n",
    "df = pd.DataFrame(categorical_array)"
   ]
  },
  {
   "cell_type": "code",
   "execution_count": 13,
   "id": "36d0549b",
   "metadata": {
    "execution": {
     "iopub.execute_input": "2024-06-18T13:49:20.572500Z",
     "iopub.status.busy": "2024-06-18T13:49:20.572092Z",
     "iopub.status.idle": "2024-06-18T13:49:20.583988Z",
     "shell.execute_reply": "2024-06-18T13:49:20.582753Z"
    },
    "papermill": {
     "duration": 0.022526,
     "end_time": "2024-06-18T13:49:20.586773",
     "exception": false,
     "start_time": "2024-06-18T13:49:20.564247",
     "status": "completed"
    },
    "tags": []
   },
   "outputs": [],
   "source": [
    "merged_df = pd.merge(df_sub, df, left_index=True, right_index=True)\n",
    "df_up = merged_df.drop('Target',axis=1)\n",
    "df_submit = merged_df.rename(columns={'0':'Target'}, inplace=True)\n"
   ]
  },
  {
   "cell_type": "code",
   "execution_count": 14,
   "id": "8c093bb3",
   "metadata": {
    "execution": {
     "iopub.execute_input": "2024-06-18T13:49:20.600954Z",
     "iopub.status.busy": "2024-06-18T13:49:20.600586Z",
     "iopub.status.idle": "2024-06-18T13:49:20.605500Z",
     "shell.execute_reply": "2024-06-18T13:49:20.604430Z"
    },
    "papermill": {
     "duration": 0.014526,
     "end_time": "2024-06-18T13:49:20.607770",
     "exception": false,
     "start_time": "2024-06-18T13:49:20.593244",
     "status": "completed"
    },
    "tags": []
   },
   "outputs": [],
   "source": [
    "df_submit"
   ]
  },
  {
   "cell_type": "code",
   "execution_count": 15,
   "id": "fad1d8fe",
   "metadata": {
    "execution": {
     "iopub.execute_input": "2024-06-18T13:49:20.621587Z",
     "iopub.status.busy": "2024-06-18T13:49:20.621200Z",
     "iopub.status.idle": "2024-06-18T13:49:20.634108Z",
     "shell.execute_reply": "2024-06-18T13:49:20.633038Z"
    },
    "papermill": {
     "duration": 0.022669,
     "end_time": "2024-06-18T13:49:20.636524",
     "exception": false,
     "start_time": "2024-06-18T13:49:20.613855",
     "status": "completed"
    },
    "tags": []
   },
   "outputs": [
    {
     "data": {
      "text/html": [
       "<div>\n",
       "<style scoped>\n",
       "    .dataframe tbody tr th:only-of-type {\n",
       "        vertical-align: middle;\n",
       "    }\n",
       "\n",
       "    .dataframe tbody tr th {\n",
       "        vertical-align: top;\n",
       "    }\n",
       "\n",
       "    .dataframe thead th {\n",
       "        text-align: right;\n",
       "    }\n",
       "</style>\n",
       "<table border=\"1\" class=\"dataframe\">\n",
       "  <thead>\n",
       "    <tr style=\"text-align: right;\">\n",
       "      <th></th>\n",
       "      <th>id</th>\n",
       "      <th>Target</th>\n",
       "    </tr>\n",
       "  </thead>\n",
       "  <tbody>\n",
       "    <tr>\n",
       "      <th>0</th>\n",
       "      <td>76518</td>\n",
       "      <td>Graduate</td>\n",
       "    </tr>\n",
       "    <tr>\n",
       "      <th>1</th>\n",
       "      <td>76519</td>\n",
       "      <td>Graduate</td>\n",
       "    </tr>\n",
       "    <tr>\n",
       "      <th>2</th>\n",
       "      <td>76520</td>\n",
       "      <td>Graduate</td>\n",
       "    </tr>\n",
       "    <tr>\n",
       "      <th>3</th>\n",
       "      <td>76521</td>\n",
       "      <td>Graduate</td>\n",
       "    </tr>\n",
       "    <tr>\n",
       "      <th>4</th>\n",
       "      <td>76522</td>\n",
       "      <td>Graduate</td>\n",
       "    </tr>\n",
       "    <tr>\n",
       "      <th>...</th>\n",
       "      <td>...</td>\n",
       "      <td>...</td>\n",
       "    </tr>\n",
       "    <tr>\n",
       "      <th>51007</th>\n",
       "      <td>127525</td>\n",
       "      <td>Graduate</td>\n",
       "    </tr>\n",
       "    <tr>\n",
       "      <th>51008</th>\n",
       "      <td>127526</td>\n",
       "      <td>Graduate</td>\n",
       "    </tr>\n",
       "    <tr>\n",
       "      <th>51009</th>\n",
       "      <td>127527</td>\n",
       "      <td>Graduate</td>\n",
       "    </tr>\n",
       "    <tr>\n",
       "      <th>51010</th>\n",
       "      <td>127528</td>\n",
       "      <td>Graduate</td>\n",
       "    </tr>\n",
       "    <tr>\n",
       "      <th>51011</th>\n",
       "      <td>127529</td>\n",
       "      <td>Graduate</td>\n",
       "    </tr>\n",
       "  </tbody>\n",
       "</table>\n",
       "<p>51012 rows × 2 columns</p>\n",
       "</div>"
      ],
      "text/plain": [
       "           id    Target\n",
       "0       76518  Graduate\n",
       "1       76519  Graduate\n",
       "2       76520  Graduate\n",
       "3       76521  Graduate\n",
       "4       76522  Graduate\n",
       "...       ...       ...\n",
       "51007  127525  Graduate\n",
       "51008  127526  Graduate\n",
       "51009  127527  Graduate\n",
       "51010  127528  Graduate\n",
       "51011  127529  Graduate\n",
       "\n",
       "[51012 rows x 2 columns]"
      ]
     },
     "execution_count": 15,
     "metadata": {},
     "output_type": "execute_result"
    }
   ],
   "source": [
    "df_sub"
   ]
  },
  {
   "cell_type": "code",
   "execution_count": null,
   "id": "28447a07",
   "metadata": {
    "papermill": {
     "duration": 0.005986,
     "end_time": "2024-06-18T13:49:20.648771",
     "exception": false,
     "start_time": "2024-06-18T13:49:20.642785",
     "status": "completed"
    },
    "tags": []
   },
   "outputs": [],
   "source": []
  }
 ],
 "metadata": {
  "kaggle": {
   "accelerator": "none",
   "dataSources": [
    {
     "databundleVersionId": 8710574,
     "sourceId": 73290,
     "sourceType": "competition"
    }
   ],
   "dockerImageVersionId": 30732,
   "isGpuEnabled": false,
   "isInternetEnabled": true,
   "language": "python",
   "sourceType": "notebook"
  },
  "kernelspec": {
   "display_name": "Python 3",
   "language": "python",
   "name": "python3"
  },
  "language_info": {
   "codemirror_mode": {
    "name": "ipython",
    "version": 3
   },
   "file_extension": ".py",
   "mimetype": "text/x-python",
   "name": "python",
   "nbconvert_exporter": "python",
   "pygments_lexer": "ipython3",
   "version": "3.10.13"
  },
  "papermill": {
   "default_parameters": {},
   "duration": 53.711965,
   "end_time": "2024-06-18T13:49:21.276699",
   "environment_variables": {},
   "exception": null,
   "input_path": "__notebook__.ipynb",
   "output_path": "__notebook__.ipynb",
   "parameters": {},
   "start_time": "2024-06-18T13:48:27.564734",
   "version": "2.5.0"
  }
 },
 "nbformat": 4,
 "nbformat_minor": 5
}
